{
 "cells": [
  {
   "cell_type": "code",
   "execution_count": 1,
   "metadata": {},
   "outputs": [],
   "source": [
    "import tweepy\n",
    "import requests\n",
    "import json"
   ]
  },
  {
   "cell_type": "code",
   "execution_count": 2,
   "metadata": {},
   "outputs": [],
   "source": [
    "CONSUMER_KEY = \"NM55YWF97zVmC7WyPf1u6nrjm\"\n",
    "CONSUMER_SECRET = \"gNCtd6iqLCvR3RyLec80aMwOxXo8XFLy2ZQc0QcpZkxcx6v2kM\"\n",
    "ACCESS_KEY = \"1355541876741300227-OwKbjmljUsHg0PNN1hSrms9Wh3yNyE\"\n",
    "ACCESS_SECRET = \"zr69qSb0jpIKRGmfIJ3t8Ae4Sg5lQ5YuuxAmaMkDuuQHQ\""
   ]
  },
  {
   "cell_type": "code",
   "execution_count": 3,
   "metadata": {},
   "outputs": [],
   "source": [
    "auth = tweepy.OAuthHandler(CONSUMER_KEY, CONSUMER_SECRET)\n",
    "auth.set_access_token(ACCESS_KEY, ACCESS_SECRET)\n",
    "api = tweepy.API(auth)"
   ]
  },
  {
   "cell_type": "code",
   "execution_count": 4,
   "metadata": {},
   "outputs": [],
   "source": [
    "for tweet in tweepy.Cursor(api.search,q=\"#cycloneproject\",count=5,lang=\"en\",since=\"2020-04-03\").items():\n",
    "    json_str=json.dumps(tweet._json)\n",
    "    parsed = json.loads(json_str)\n",
    "    # print(parsed.keys())\n",
    "    # break\n",
    "    print(json.dumps(parsed, indent=4, sort_keys=True))\n",
    "    # print(f\"The Text Of the Tweet is - {tweet.text}\")\n",
    "    # print(tweet)\n",
    "    # break"
   ]
  }
 ],
 "metadata": {
  "kernelspec": {
   "display_name": "Python 3",
   "language": "python",
   "name": "python3"
  },
  "language_info": {
   "codemirror_mode": {
    "name": "ipython",
    "version": 3
   },
   "file_extension": ".py",
   "mimetype": "text/x-python",
   "name": "python",
   "nbconvert_exporter": "python",
   "pygments_lexer": "ipython3",
   "version": "3.8.6"
  }
 },
 "nbformat": 4,
 "nbformat_minor": 4
}
